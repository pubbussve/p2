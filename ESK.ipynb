{
  "nbformat": 4,
  "nbformat_minor": 0,
  "metadata": {
    "colab": {
      "name": "ESK.ipynb",
      "provenance": [],
      "collapsed_sections": [],
      "authorship_tag": "ABX9TyMoSnan3d8b2Fi6bKdlvTrm",
      "include_colab_link": true
    },
    "kernelspec": {
      "name": "python3",
      "display_name": "Python 3"
    },
    "language_info": {
      "name": "python"
    }
  },
  "cells": [
    {
      "cell_type": "markdown",
      "metadata": {
        "id": "view-in-github",
        "colab_type": "text"
      },
      "source": [
        "<a href=\"https://colab.research.google.com/github/pubbussve/p2/blob/main/ESK.ipynb\" target=\"_parent\"><img src=\"https://colab.research.google.com/assets/colab-badge.svg\" alt=\"Open In Colab\"/></a>"
      ]
    },
    {
      "cell_type": "markdown",
      "metadata": {
        "id": "8-Mr9pV1Q4L0"
      },
      "source": [
        "# **P2 - ESK Elektrische Stromkreise**\n",
        "1. Belastungsabhängigkeit von Spannungsquellen\n",
        "2. Bestätigung des Ohmschen Gesetzes\n",
        "3. Spannungsabfall und Potentiometer\n",
        "4. Spannungsmessung durch Kompensation\n",
        "5. Widerstandsmessung mit einer Wheatstone-Brücke\n",
        "6. Bestätigung der Kirchhoffschen Sätze\n",
        "7. Unabgeglichene Wheatstone-Brücke\n",
        "* [Stichworte zur Vorbereitung](https://downloads.physik.uni-muenchen.de/praktikum/durst/p2/ESK_Stichworte.pdf)\n",
        "* [Versuchsanleitung](https://downloads.physik.uni-muenchen.de/praktikum/durst/p2/ESK.pdf)\n",
        "* [Abgabe](https://moodle.lmu.de/mod/assign/view.php?id=799659)"
      ]
    },
    {
      "cell_type": "code",
      "metadata": {
        "id": "f5vs14KdQ3nV"
      },
      "source": [
        "Ich "
      ],
      "execution_count": null,
      "outputs": []
    }
  ]
}
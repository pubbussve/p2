{
  "nbformat": 4,
  "nbformat_minor": 0,
  "metadata": {
    "colab": {
      "name": "ESK.ipynb",
      "provenance": [],
      "collapsed_sections": [],
      "authorship_tag": "ABX9TyOtQ3T0g/ql+awpfbsLHUO4",
      "include_colab_link": true
    },
    "kernelspec": {
      "name": "python3",
      "display_name": "Python 3"
    },
    "language_info": {
      "name": "python"
    }
  },
  "cells": [
    {
      "cell_type": "markdown",
      "metadata": {
        "id": "view-in-github",
        "colab_type": "text"
      },
      "source": [
        "<a href=\"https://colab.research.google.com/github/pubbussve/p2/blob/main/ESK.ipynb\" target=\"_parent\"><img src=\"https://colab.research.google.com/assets/colab-badge.svg\" alt=\"Open In Colab\"/></a>"
      ]
    },
    {
      "cell_type": "markdown",
      "metadata": {
        "id": "8-Mr9pV1Q4L0"
      },
      "source": [
        "# **P2 - ESK Elektrische Stromkreise**\n",
        "1. Belastungsabhängigkeit von Spannungsquellen\n",
        "2. Bestätigung des Ohmschen Gesetzes\n",
        "3. Spannungsabfall und Potentiometer\n",
        "4. Spannungsmessung durch Kompensation\n",
        "5. Widerstandsmessung mit einer Wheatstone-Brücke\n",
        "6. Bestätigung der Kirchhoffschen Sätze\n",
        "7. Unabgeglichene Wheatstone-Brücke\n",
        "* [Stichworte zur Vorbereitung](https://downloads.physik.uni-muenchen.de/praktikum/durst/p2/ESK_Stichworte.pdf)\n",
        "* [Versuchsanleitung](https://downloads.physik.uni-muenchen.de/praktikum/durst/p2/ESK.pdf)\n",
        "* [Abgabe](https://moodle.lmu.de/mod/assign/view.php?id=799659)"
      ]
    },
    {
      "cell_type": "markdown",
      "metadata": {
        "id": "pMU2TwaTcr2I"
      },
      "source": [
        "## Grundlegende Begriffe, Ohmscher Widerstand\n",
        "1. Begriffe: elektrische Stromstärke,\n",
        "elektrische Feldstärke, elektrisches\n",
        "Potential, elektrische Spannung,\n",
        "Einheiten;\n",
        "2. Definition des elektrischen\n",
        "Widerstandes, Ohmsches Gesetz\n",
        "3. spezifischer Widerstand\n",
        "4. Elektronische Spannungsmessung\n",
        "nach Dual-Slope-Verfahren\n",
        "* für TV1+2"
      ]
    },
    {
      "cell_type": "markdown",
      "metadata": {
        "id": "FQpZx6ElcsFW"
      },
      "source": [
        "## Spannungsteiler, Spannungsquelle\n",
        "1. Begriff des Spannungsabfalls,\n",
        "Spannungsteilung und\n",
        "Potentiometer, verschiedene\n",
        "Bauweisen des Potentiometers\n",
        "2. Spannungs-, Strom- und\n",
        "Widerstandsmessung mit\n",
        "Multimetern\n",
        "3. Stabilisierte Spannungsquelle,\n",
        "galvanische Zelle\n",
        "4. Quellenspannung, Innenwiderstand,\n",
        "Klemmenspannung\n",
        "* für TV2+3"
      ]
    },
    {
      "cell_type": "markdown",
      "metadata": {
        "id": "AqO2C2ZrcsQ9"
      },
      "source": [
        "## Kompensationsschaltung\n",
        "1. Kompensationsanordnung\n",
        "nach Du Bois-Reymond\n",
        "2. Messprinzip der Kompensationsanordnung, Nullinstrument und seine Funktion (Erklärung am Gerät)\n",
        "3. Elektronisches Spannungsnormal\n",
        "und seine Funktion (Erklärung am\n",
        "Gerät)\n",
        "4. Kalibrierung mit dem\n",
        "Spannungsnormal\n",
        "* für TV4"
      ]
    },
    {
      "cell_type": "markdown",
      "metadata": {
        "id": "0AEgI6e6csba"
      },
      "source": [
        "## Kirchhoffsche Sätze\n",
        "1. 1. Kirchhoffscher Satz\n",
        "2. 2. Kirchhoffscher Satz\n",
        "3. Experimentelle Überprüfung\n",
        "der Kirchhoffschen Sätze\n",
        "4. Anwendung auf die\n",
        "Serien- und Parallelschaltung\n",
        "von Widerständen\n",
        "* für TV5"
      ]
    },
    {
      "cell_type": "markdown",
      "metadata": {
        "id": "YPplmFP0cugI"
      },
      "source": [
        "# Teilversuch 1: Belastungsabhängigkeit zweier Spannungsquellen\n",
        "* Zur Untersuchung der Eigenschaften von Spannungsquellen werden deren Ausgangsspannungen in Abhängigkeit von der Belastung gemessen. Als Messinstrumente dienen\n",
        "digitale Multimeter. Bei einer galvanischen Zelle fällt die Ausgangsspannung linear mit\n",
        "der Belastungsstromstärke ab, der Betrag der Steigung der sich ergebenden Kennlinie\n",
        "ist gleich dem Innenwiderstand dieser Spannungsquelle. Ein mit elektronischen Mitteln\n",
        "stabilisiertes Netzgerät hat dagegen in einem großen Bereich eine Ausgangsspannung,\n",
        "die (fast) unabhängig von der Belastung ist."
      ]
    },
    {
      "cell_type": "markdown",
      "metadata": {
        "id": "JxT4Ysp7cus8"
      },
      "source": [
        "# Teilversuch 2: Bestätigung des Ohmschen Gesetzes \n",
        "* Nach dem Ohmschen Gesetz ist die Stromstärke in einem Widerstand proportional zur\n",
        "angelegten Spannung. Die Messung der Kennlinie ergibt dementsprechend eine durch\n",
        "den Nullpunkt des Koordinatensystems gehende Gerade. Aus deren Steigung kann der\n",
        "Widerstandswert bestimmt werden."
      ]
    },
    {
      "cell_type": "markdown",
      "metadata": {
        "id": "fmNvXnxncu5P"
      },
      "source": [
        "# Teilversuch 3: Spannungsabfall und Potentiometer \n",
        "* Es ist oft zweckmäßig, den in einem Widerstand fließenden Strom als Ursache für die an\n",
        "Teilstücken des Widerstands abfallenden Spannungen anzusehen. Zur Anwendung dieser Betrachtungsweise werden durch einen geraden Draht bzw. ein Wendelpotentiometer\n",
        "Ströme geschickt und die zwischen je zwei Punkten auftretenden Spannungsabfälle\n",
        "nachgewiesen."
      ]
    },
    {
      "cell_type": "markdown",
      "metadata": {
        "id": "8pR6NAG4cvF5"
      },
      "source": [
        "# Teilversuch 4: Spannungsmessung durch Kompensation \n",
        "* Unbekannte Spannungen können durch Kompensation von bekannten Spannungen\n",
        "gemessen werden. Als Beispiel dafür wird mit der Kompensationsschaltung nach Du\n",
        "Bois-Reymond die Spannung einer galvanischen Zelle mit der Spannung eines elektronischen Spannungsnormals verglichen"
      ]
    },
    {
      "cell_type": "markdown",
      "metadata": {
        "id": "vC1ipPLscvRu"
      },
      "source": [
        "# Teilversuch 5: Bestätigung der Kirchhoffschen Sätze \n",
        "* Die Kirchhoffschen Sätze machen Aussagen über Ströme und Spannungen in einem\n",
        "Widerstandsnetzwerk. Durch Messung derselben können sie bestätigt werden."
      ]
    }
  ]
}
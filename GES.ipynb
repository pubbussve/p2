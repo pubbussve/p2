{
  "nbformat": 4,
  "nbformat_minor": 0,
  "metadata": {
    "colab": {
      "name": "GES.ipynb",
      "provenance": [],
      "collapsed_sections": [],
      "toc_visible": true,
      "authorship_tag": "ABX9TyPjhZ3szrpZJi/msv26dx1q",
      "include_colab_link": true
    },
    "kernelspec": {
      "name": "python3",
      "display_name": "Python 3"
    },
    "language_info": {
      "name": "python"
    }
  },
  "cells": [
    {
      "cell_type": "markdown",
      "metadata": {
        "id": "view-in-github",
        "colab_type": "text"
      },
      "source": [
        "<a href=\"https://colab.research.google.com/github/pubbussve/p2/blob/main/GES.ipynb\" target=\"_parent\"><img src=\"https://colab.research.google.com/assets/colab-badge.svg\" alt=\"Open In Colab\"/></a>"
      ]
    },
    {
      "cell_type": "markdown",
      "metadata": {
        "id": "9B7hf6hfRAvy"
      },
      "source": [
        "# **P2 - GES@Home Gase mit Einmalspritzen (und Magnetfeld)**\n",
        "1. Isobare Zustandsänderung\n",
        "2. Isotherme Zustandsänderung\n",
        "3. Herabsetzen des Siedepunktes\n",
        "4. Bestimmung des Magnetfelds einer Leiterschleife mit der Phyphox-App\n",
        "* [Versuchsanleitung](https://downloads.physik.uni-muenchen.de/praktikum/durst/p2/GES.pdf)\n",
        "* [Abgabe](https://moodle.lmu.de/mod/assign/view.php?id=799655)"
      ]
    },
    {
      "cell_type": "markdown",
      "metadata": {
        "id": "BPBZ-o4aeVyr"
      },
      "source": [
        "# Teilversuch 1: Isobare Zustandsänderung\n",
        "* In diesem Versuch weisen Sie das Gesetz von Gay-Lussac nach."
      ]
    },
    {
      "cell_type": "markdown",
      "metadata": {
        "id": "RFBwQBPaeV9Z"
      },
      "source": [
        "# Teilversuch 2: Isotherme Zustandsänderung\n",
        "* In diesem Versuch bestimmen Sie unter Verwendung des Boyle-Mariotte-Gesetzes den\n",
        "Luftdruck und die Boltzmann-Konstante."
      ]
    },
    {
      "cell_type": "markdown",
      "metadata": {
        "id": "30iUvIR0eWGD"
      },
      "source": [
        "# Teilversuch 3: Herabsetzen des Siedepunktes \n",
        "* In einem qualitativen Versuch untersuchen Sie die Dampfdruckkurve."
      ]
    },
    {
      "cell_type": "markdown",
      "metadata": {
        "id": "biAI7Z0keWPg"
      },
      "source": [
        "# Teilversuch 4: Bestimmung des Magnetfelds einer Leiterschleife \n",
        "* Mit Hilfe der Phyphox-App bestimmen Sie das Magnetfeld einer Leiterschleife, die von\n",
        "einem konstanten Strom durchflossen wird."
      ]
    }
  ]
}
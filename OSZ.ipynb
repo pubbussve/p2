{
  "nbformat": 4,
  "nbformat_minor": 0,
  "metadata": {
    "colab": {
      "name": "OSZ.ipynb",
      "provenance": [],
      "collapsed_sections": [],
      "toc_visible": true,
      "authorship_tag": "ABX9TyMQYwGTMTEFM+Okyuie3Ibe",
      "include_colab_link": true
    },
    "kernelspec": {
      "name": "python3",
      "display_name": "Python 3"
    },
    "language_info": {
      "name": "python"
    }
  },
  "cells": [
    {
      "cell_type": "markdown",
      "metadata": {
        "id": "view-in-github",
        "colab_type": "text"
      },
      "source": [
        "<a href=\"https://colab.research.google.com/github/pubbussve/p2/blob/main/OSZ.ipynb\" target=\"_parent\"><img src=\"https://colab.research.google.com/assets/colab-badge.svg\" alt=\"Open In Colab\"/></a>"
      ]
    },
    {
      "cell_type": "markdown",
      "metadata": {
        "id": "dVYWZmZzPYu8"
      },
      "source": [
        "# **P2 - OSZ - Wechselspannungen und aperiodische Vorgänge (Oszilloskop I)**\n",
        "1. Bedienelemente des Oszilloskops\n",
        "2. Messung von Amplituden\n",
        "3. Messung von Phasendifferenzen\n",
        "4. Auf- und Entladevorgänge am Kondensator\n",
        "5. Verwendung der Speicherfunktion\n",
        "* [Stichworte zur Vorbereitung](https://downloads.physik.uni-muenchen.de/praktikum/durst/p2/OSZ_Stichworte.pdf)\n",
        "* [Versuchsanleitung](https://downloads.physik.uni-muenchen.de/praktikum/durst/p2/OSZ.pdf)\n",
        "* [Abgabe](https://moodle.lmu.de/mod/assign/view.php?id=799659)"
      ]
    },
    {
      "cell_type": "code",
      "metadata": {
        "id": "7HoBSLFEPXeo"
      },
      "source": [
        ""
      ],
      "execution_count": null,
      "outputs": []
    }
  ]
}
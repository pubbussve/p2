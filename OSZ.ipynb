{
  "nbformat": 4,
  "nbformat_minor": 0,
  "metadata": {
    "colab": {
      "name": "OSZ.ipynb",
      "provenance": [],
      "collapsed_sections": [],
      "toc_visible": true,
      "authorship_tag": "ABX9TyO+PsG86r7WuxDlogDyK8FT",
      "include_colab_link": true
    },
    "kernelspec": {
      "name": "python3",
      "display_name": "Python 3"
    },
    "language_info": {
      "name": "python"
    }
  },
  "cells": [
    {
      "cell_type": "markdown",
      "metadata": {
        "id": "view-in-github",
        "colab_type": "text"
      },
      "source": [
        "<a href=\"https://colab.research.google.com/github/pubbussve/p2/blob/main/OSZ.ipynb\" target=\"_parent\"><img src=\"https://colab.research.google.com/assets/colab-badge.svg\" alt=\"Open In Colab\"/></a>"
      ]
    },
    {
      "cell_type": "markdown",
      "metadata": {
        "id": "dVYWZmZzPYu8"
      },
      "source": [
        "# **P2 - OSZ - Wechselspannungen und aperiodische Vorgänge (Oszilloskop I)** - Versuchsvorbereitung\n",
        "1. Bedienelemente des Oszilloskops\n",
        "2. Messung von Amplituden\n",
        "3. Messung von Phasendifferenzen\n",
        "4. Auf- und Entladevorgänge am Kondensator\n",
        "5. Verwendung der Speicherfunktion\n",
        "* [Stichworte zur Vorbereitung](https://downloads.physik.uni-muenchen.de/praktikum/durst/p2/OSZ_Stichworte.pdf)\n",
        "* [Versuchsanleitung](https://downloads.physik.uni-muenchen.de/praktikum/durst/p2/OSZ.pdf)\n",
        "* [Abgabe](https://moodle.lmu.de/mod/assign/view.php?id=799659)"
      ]
    },
    {
      "cell_type": "markdown",
      "metadata": {
        "id": "YvlNE7rsQ6C1"
      },
      "source": [
        "## Oszilloskop\n",
        "1. Registrierung rasch ablaufender\n",
        "Vorgänge\n",
        "2. Aufbau der Bildröhre\n",
        "Darstellen von Funktionen\n",
        "Messgröße\n",
        "3. Zeitablenkung,\n",
        "Sägezahnspannung, Trigger,\n",
        "stehendes Bild\n",
        "4. Eingangskopplung,\n",
        "AC/DC/GND, Tastkopf\n",
        "* für TV1+5"
      ]
    },
    {
      "cell_type": "markdown",
      "metadata": {
        "id": "quPH6jaERTq7"
      },
      "source": [
        "## Wechselspannungen\n",
        "1. Definition, Bild einer sinusförmigen\n",
        "Wechselspannung, Amplitude, Phase,\n",
        "Periodendauer, Frequenz, Kreisfrequenz\n",
        "2. Effektivwert (Herleitung)\n",
        "3. Phasenverschiebung zwischen zwei\n",
        "Wechselspannungen\n",
        "4. Registrierung von Wechselspannungen\n",
        "mit dem Oszilloskop, Messen der\n",
        "Phasendifferenz mittels Sinuskurven\n",
        "* für TV2"
      ]
    },
    {
      "cell_type": "markdown",
      "metadata": {
        "id": "CLMJ3dVbRjxf"
      },
      "source": [
        "## Lissajous-Ellipse\n",
        "1. Prinzip; Bild einer LissajousEllipse, charakteristische Punkte\n",
        "2. Beschreibung des Zustandekommens der verschiedenen Formen\n",
        "3. Bestimmung der Phasendifferenz\n",
        "mittels der Lissajous-Ellipse\n",
        "(Herleitung)\n",
        "4. Messen der Phasendifferenz mittels der Lissajous-Ellipse\n",
        "* für TV3"
      ]
    },
    {
      "cell_type": "markdown",
      "metadata": {
        "id": "U0VglC2YRs4V"
      },
      "source": [
        "## Auf- und Entladen eines Kondensators\n",
        "1. Schaltung zum Aufladen (Entladen) eines Kondensators über einen Widerstand\n",
        "2. Beschreiben des Aufladevorgangs,\n",
        "Anwenden des 2. Kirchhoffschen\n",
        "Gesetzes auf jene Schaltung, Herleitung der Formel\n",
        "3. Beschreiben des Entladevorgangs,\n",
        "Anwenden des 2. Kirchhoffschen Gesetzes auf jene Schaltung ohne\n",
        "Herleitung der Formel\n",
        "4. Verlauf der Auf- und Entladekurve, Relaxationszeit und ihre experimentelle Bestimmung\n",
        "* für TV4+5"
      ]
    },
    {
      "cell_type": "markdown",
      "metadata": {
        "id": "VdKKRb-NTLJl"
      },
      "source": [
        "# Teilversuch 1: Basisbedienelemente des Oszilloskops\n",
        "* In diesem Teilversuch werden Grundfunktionen eines Oszilloskops behandelt, die eine Darstellung einer zeitlich periodischen Spannung ermöglichen."
      ]
    },
    {
      "cell_type": "markdown",
      "metadata": {
        "id": "mHU8MxTRW8EJ"
      },
      "source": [
        "# Teilversuch 2: Messen einer Amplitud\n",
        "* Ein wichtiges Charakteristikum einer sinusförmigen Wechselspannung ist ihre Amplitude. Deren Ausmessen wird mit dem Oszilloskop vorgenommen."
      ]
    },
    {
      "cell_type": "markdown",
      "metadata": {
        "id": "E3r-WKV3XGHN"
      },
      "source": [
        "# Teilversuch 3: Messen einer Phasendifferenz\n",
        "* Betrachtet man mit dem Oszilloskop zwei gleichfrequente Wechselspannungen, kann\n",
        "die Phasendifferenz untersucht werden"
      ]
    },
    {
      "cell_type": "markdown",
      "metadata": {
        "id": "A-ItZFngXGVe"
      },
      "source": [
        "# Teilversuch 4: Betrachten des Auf- und Entladevorgangs eines Kondensators\n",
        "* In diesem Teilversuch wird ein Kondensator mittels Anregung durch einen Funktionengenerator periodisch auf- und entladen. Die periodischen Lade- und Entladekurven\n",
        "können mit dem Oszilloskop untersucht werden."
      ]
    },
    {
      "cell_type": "markdown",
      "metadata": {
        "id": "Tb6ANqqYXG6l"
      },
      "source": [
        "# Teilversuch 5: Quantitative Registrierung der Entladekurve eines Kondensators\n",
        "* Mithilfe der digitalen Speicherfunktion eines Oszilloskops wird ein einmaliger Entladevorgang eines Kondensators aufgezeichnet und anschließend quantitativ untersucht."
      ]
    }
  ]
}
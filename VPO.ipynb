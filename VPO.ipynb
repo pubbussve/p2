{
  "nbformat": 4,
  "nbformat_minor": 0,
  "metadata": {
    "colab": {
      "name": "VPO.ipynb",
      "provenance": [],
      "collapsed_sections": [],
      "authorship_tag": "ABX9TyPx6akzHtFcVLpkX/OwiWgZ",
      "include_colab_link": true
    },
    "kernelspec": {
      "name": "python3",
      "display_name": "Python 3"
    },
    "language_info": {
      "name": "python"
    }
  },
  "cells": [
    {
      "cell_type": "markdown",
      "metadata": {
        "id": "view-in-github",
        "colab_type": "text"
      },
      "source": [
        "<a href=\"https://colab.research.google.com/github/pubbussve/p2/blob/main/VPO.ipynb\" target=\"_parent\"><img src=\"https://colab.research.google.com/assets/colab-badge.svg\" alt=\"Open In Colab\"/></a>"
      ]
    },
    {
      "cell_type": "markdown",
      "metadata": {
        "id": "t8kebsi6QtHP"
      },
      "source": [
        "# **P2 - VPO - Vierpole (Oszilloskop II)**\n",
        "1. Wechselstromverhalten passiver Bauelemente\n",
        "2. Frequenzverhalten von Hoch- und Tiefpass\n",
        "3. Resonanz eines Serienschwingkreises\n",
        "4. Differenzier- und Integrierschaltung\n",
        "* [Stichworte zur Vorbereitung](https://downloads.physik.uni-muenchen.de/praktikum/durst/p2/VPO_Stichworte.pdf)\n",
        "* [Versuchsanleitung](https://downloads.physik.uni-muenchen.de/praktikum/durst/p2/VPO.pdf)\n",
        "* [Abgabe](https://moodle.lmu.de/mod/assign/view.php?id=799660)"
      ]
    },
    {
      "cell_type": "code",
      "metadata": {
        "id": "ArtNhcF6QjB2"
      },
      "source": [
        ""
      ],
      "execution_count": null,
      "outputs": []
    }
  ]
}
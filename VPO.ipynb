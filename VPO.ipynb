{
  "nbformat": 4,
  "nbformat_minor": 0,
  "metadata": {
    "colab": {
      "name": "VPO.ipynb",
      "provenance": [],
      "collapsed_sections": [],
      "authorship_tag": "ABX9TyOk0b4AO2h2+4up17wQ9zty",
      "include_colab_link": true
    },
    "kernelspec": {
      "name": "python3",
      "display_name": "Python 3"
    },
    "language_info": {
      "name": "python"
    }
  },
  "cells": [
    {
      "cell_type": "markdown",
      "metadata": {
        "id": "view-in-github",
        "colab_type": "text"
      },
      "source": [
        "<a href=\"https://colab.research.google.com/github/pubbussve/p2/blob/main/VPO.ipynb\" target=\"_parent\"><img src=\"https://colab.research.google.com/assets/colab-badge.svg\" alt=\"Open In Colab\"/></a>"
      ]
    },
    {
      "cell_type": "markdown",
      "metadata": {
        "id": "t8kebsi6QtHP"
      },
      "source": [
        "# **P2 - VPO - Vierpole (Oszilloskop II)** - Versuchvorbereitung\n",
        "1. Wechselstromverhalten passiver Bauelemente\n",
        "2. Frequenzverhalten von Hoch- und Tiefpass\n",
        "3. Resonanz eines Serienschwingkreises\n",
        "4. Differenzier- und Integrierschaltung\n",
        "* [Stichworte zur Vorbereitung](https://downloads.physik.uni-muenchen.de/praktikum/durst/p2/VPO_Stichworte.pdf)\n",
        "* [Versuchsanleitung](https://downloads.physik.uni-muenchen.de/praktikum/durst/p2/VPO.pdf)\n",
        "* [Abgabe](https://moodle.lmu.de/mod/assign/view.php?id=799660)\n"
      ]
    },
    {
      "cell_type": "markdown",
      "metadata": {
        "id": "ehdgtzPjYAUH"
      },
      "source": [
        "## Ohmsches Gesetz für Wechselstrom\n",
        "1. Erweiterung von Wechselspannung\n",
        "und Wechselstrom ins Komplexe\n",
        "2. Zeigerdiagramm\n",
        "Ohmsches Gesetz für Wechselstrom\n",
        "3. Definition der Impedanz, polare und\n",
        "kartesische Darstellung\n",
        "4. Impedanzen von Widerstand,\n",
        "Kondensator und Spule\n",
        "* für TV1"
      ]
    },
    {
      "cell_type": "markdown",
      "metadata": {
        "id": "wiJuEuz5Ya5R"
      },
      "source": [
        "## Serienschwingkreis\n",
        "1. Schaltung\n",
        "2. Impedanz des Serienschwingkreises\n",
        "3. Begriff der Resonanz Erklärung der Resonanz\n",
        "4. Phasenverschiebung, Dämpfung\n",
        "* für TV3"
      ]
    },
    {
      "cell_type": "markdown",
      "metadata": {
        "id": "CAYJRnyDYbPo"
      },
      "source": [
        "## Vierpole\n",
        "1. Definition\n",
        "2. Verschiedene Eingangssignale\n",
        "3. Übertragungsverhältnis\n",
        "Pegelmaß\n",
        "4. Tiefpass als frequenzabhängiger\n",
        "Spannungsteiler\n",
        "* für TV2"
      ]
    },
    {
      "cell_type": "markdown",
      "metadata": {
        "id": "j2wjQvotYbsh"
      },
      "source": [
        "## Differenzierer und Integrierer\n",
        "1. Schaltung für Differenzierer und\n",
        "deren Funktionsweise\n",
        "2. Schaltung für Integrierer\n",
        "und deren Funktionsweise\n",
        "3. Wirkung auf verschiedene\n",
        "Eingangssignale für Differenziere\n",
        "4. Wirkung auf verschiedene\n",
        "Eingangssignale für Integrierer\n",
        "* für TV4"
      ]
    },
    {
      "cell_type": "markdown",
      "metadata": {
        "id": "g9v29yGJYDC9"
      },
      "source": [
        "# Teilversuch 1: Verhalten einfacher Bauelemente im Wechselstromkreis\n",
        "* Beobachtung der frequenzabhängigen Größen Strom, Spannung und Phasenverschiebung an Widerstand, Kondensator und Spule."
      ]
    },
    {
      "cell_type": "markdown",
      "metadata": {
        "id": "zu9xt35jYPak"
      },
      "source": [
        "# Teilversuch 2: Frequenzverhalten von Hoch- und Tiefpass\n",
        "* Akustische Veranschaulichung der Funktionsweise von Hoch- und Tiefpassfilter, die in\n",
        "vielen technischen Anwendungen eingesetzt werden."
      ]
    },
    {
      "cell_type": "markdown",
      "metadata": {
        "id": "mUmdaQ2WYPo_"
      },
      "source": [
        "# Teilversuch 3: Resonanzkurve eines Serienschwingkreises\n",
        "* Quantitative Ermittelung der Resonanzkurve eines Serienschwingkreises."
      ]
    },
    {
      "cell_type": "markdown",
      "metadata": {
        "id": "TB75_v4wYPyL"
      },
      "source": [
        "# Teilversuch 4: Differenzier- und Integrierschaltung\n",
        "* Beobachtung der zeitlichen Spannungsverläufe von Vierpolen: Integrierer und Differenzierer."
      ]
    }
  ]
}
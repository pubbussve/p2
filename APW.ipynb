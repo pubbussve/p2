{
  "nbformat": 4,
  "nbformat_minor": 0,
  "metadata": {
    "colab": {
      "name": "APW.ipynb",
      "provenance": [],
      "collapsed_sections": [],
      "toc_visible": true,
      "authorship_tag": "ABX9TyNnxh/jquo7JcL36luZ/Tg0",
      "include_colab_link": true
    },
    "kernelspec": {
      "name": "python3",
      "display_name": "Python 3"
    },
    "language_info": {
      "name": "python"
    }
  },
  "cells": [
    {
      "cell_type": "markdown",
      "metadata": {
        "id": "view-in-github",
        "colab_type": "text"
      },
      "source": [
        "<a href=\"https://colab.research.google.com/github/pubbussve/p2/blob/main/APW.ipynb\" target=\"_parent\"><img src=\"https://colab.research.google.com/assets/colab-badge.svg\" alt=\"Open In Colab\"/></a>"
      ]
    },
    {
      "cell_type": "markdown",
      "metadata": {
        "id": "nNgxqziCpsH7"
      },
      "source": [
        "# **P2 - APW - Vierpole (Oszilloskop II)** - Versuchsvorbereitung\n",
        "1. Spezifische Wärmekapazität von Wasser\n",
        "2. Wärmekapazitäten von Festkörpern\n",
        "3. Gefriervorgang von reinem Wasser\n",
        "4. Adiabatische Zustandsänderung\n",
        "5. Gesamtstrahlung eines Hohlraumstrahlers\n",
        "* [Stichworte zur Vorbereitung](https://downloads.physik.uni-muenchen.de/praktikum/durst/p2/APW_Stichworte.pdf)\n",
        "* [Versuchsanleitung](https://downloads.physik.uni-muenchen.de/praktikum/durst/p2/APW.pdf)\n",
        "* [Abgabe](https://moodle.lmu.de/mod/assign/view.php?id=799656)"
      ]
    },
    {
      "cell_type": "markdown",
      "metadata": {
        "id": "p1vNPdvgZ7vY"
      },
      "source": [
        "## Wärme als Energieform\n",
        "1. Begriffe: Wärme, Temperatur\n",
        "Wärmekapazität\n",
        "2. Spezifische Wärmekapazitäten\n",
        "3. Prinzipielle Anordnung zur\n",
        "Bestimmung einer Wärmekapazität\n",
        "4. Kalorimetrie\n",
        "* für TV1-3"
      ]
    },
    {
      "cell_type": "markdown",
      "metadata": {
        "id": "xl_WKP-RZ75k"
      },
      "source": [
        "## Wärmekapazität von Wasser bzw. Festkörpern\n",
        "1. Wasserwert; Grundprinzip der\n",
        "Bestimmung der spezifischen\n",
        "Wärmekapazitäten\n",
        "2. Regel von Dulong und Petit\n",
        "3. Temperaturabhängigkeit der\n",
        "Wärmekapazität von Festkörpern\n",
        "4. in Versuchsablaufplan:\n",
        "Experimentelle Bestimmung der\n",
        "Wärmekapazität von Wasser;\n",
        "Experimentelle Bestimmung der\n",
        "Wärmekapazität eines Festkörpers;\n",
        "* für TV1,2 "
      ]
    },
    {
      "cell_type": "markdown",
      "metadata": {
        "id": "dMLp5iBpZ8B-"
      },
      "source": [
        "## Adiabatische Zustandsänderung\n",
        "1. Poissonsche Gleichung\n",
        "2. Beziehung für den\n",
        "Adiabatenexponenten\n",
        "3. Modellvorstellung über die Zahl der\n",
        "Freiheitsgrade der Gasteilchen\n",
        "4. in Versuchsablaufplan:\n",
        "Experimentelle Anordnung zur\n",
        "Bestimmung des Adiabatenexponenten von Luft\n",
        "* für TV4"
      ]
    },
    {
      "cell_type": "markdown",
      "metadata": {
        "id": "n7zgUm1eZ8JB"
      },
      "source": [
        "## Wärmestrahlung\n",
        "1. Ursache der Wärmestrahlung;\n",
        "Begriff der spezifischen Ausstrahlung\n",
        "2. Ausstrahlung eines geheizten Hohlraums\n",
        "Plancksches Strahlungsgesetz\n",
        "3. Stefan-Boltzmann-Gesetz\n",
        "4. in Versuchsablaufplan:\n",
        "Experimenteller Aufbau zur Überprüfung\n",
        "des Stefan-Boltzmann-Gesetzes\n",
        "* für TV5 "
      ]
    },
    {
      "cell_type": "markdown",
      "metadata": {
        "id": "gxe7lWamZ-rw"
      },
      "source": [
        "# Teilversuch 1: Bestimmung der spezifischen Wärmekapazität von Wasser\n",
        "* Zunächts wird der Wasserwert des verwendeten Kalorimeters bestimmt und mit Erfahrungswerten verglichen. Anschließend wird die spezifische Wärmekapazität von Wasser\n",
        "bestimmt."
      ]
    },
    {
      "cell_type": "markdown",
      "metadata": {
        "id": "FWy03H48Z-3N"
      },
      "source": [
        "# Teilversuch 2: Bestimmung der Wärmekapazitäten von Festkörpern\n",
        "* Bestimmung der Wärmekapazität verschiedener Körper mittels Kalorimeter und Vergleich mit der Theorie nach Dulong und Petit."
      ]
    },
    {
      "cell_type": "markdown",
      "metadata": {
        "id": "-PuZcWvGZ_A2"
      },
      "source": [
        "# Teilversuch 3: Bestimmung der spezifischen Schmelzwärme von Eis\n",
        "* Gefrorenes Wasser (Eis) wird im Kalorimeter geschmolzen und daraus die spezifische\n",
        "Schmelzwärme bestimmt."
      ]
    },
    {
      "cell_type": "markdown",
      "metadata": {
        "id": "bAxnhhLEZ_LR"
      },
      "source": [
        "# Teilversuch 4: Adiabatische Zustandsänderung\n",
        "* Eine adiabatische Zustandsänderung einer Luftmenge, die wegen mangelhafter Wärmeisolierung schnell ablaufen muss, wird mit Hilfe einer schwingenden Wassersäule\n",
        "realisiert. Aus dem Experiment ergibt sich der Adiabatenexponent von Luft."
      ]
    },
    {
      "cell_type": "markdown",
      "metadata": {
        "id": "useC4VhlZ_Us"
      },
      "source": [
        "# Teilversuch 5: Strahlung eines Schwarzen Strahlers\n",
        "* Bestätigung des Stefan-Boltzmann-Gesetzes durch Messung der Abstrahlung eines\n",
        "Schwarzen Strahlers."
      ]
    }
  ]
}
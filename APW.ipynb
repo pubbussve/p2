{
  "nbformat": 4,
  "nbformat_minor": 0,
  "metadata": {
    "colab": {
      "name": "APW.ipynb",
      "provenance": [],
      "collapsed_sections": [],
      "authorship_tag": "ABX9TyOTL5qfkaOb3MWn3t2OGxE0",
      "include_colab_link": true
    },
    "kernelspec": {
      "name": "python3",
      "display_name": "Python 3"
    },
    "language_info": {
      "name": "python"
    }
  },
  "cells": [
    {
      "cell_type": "markdown",
      "metadata": {
        "id": "view-in-github",
        "colab_type": "text"
      },
      "source": [
        "<a href=\"https://colab.research.google.com/github/pubbussve/p2/blob/main/APW.ipynb\" target=\"_parent\"><img src=\"https://colab.research.google.com/assets/colab-badge.svg\" alt=\"Open In Colab\"/></a>"
      ]
    },
    {
      "cell_type": "markdown",
      "metadata": {
        "id": "nNgxqziCpsH7"
      },
      "source": [
        "# **P2 - APW - Vierpole (Oszilloskop II)**\n",
        "1. Spezifische Wärmekapazität von Wasser\n",
        "2. Wärmekapazitäten von Festkörpern\n",
        "3. Gefriervorgang von reinem Wasser\n",
        "4. Adiabatische Zustandsänderung\n",
        "5. Gesamtstrahlung eines Hohlraumstrahlers\n",
        "* [Stichworte zur Vorbereitung](https://downloads.physik.uni-muenchen.de/praktikum/durst/p2/APW_Stichworte.pdf)\n",
        "* [Versuchsanleitung](https://downloads.physik.uni-muenchen.de/praktikum/durst/p2/APW.pdf)\n",
        "* [Abgabe](https://moodle.lmu.de/mod/assign/view.php?id=799656)"
      ]
    },
    {
      "cell_type": "code",
      "metadata": {
        "id": "yu6aX3uCQpbp"
      },
      "source": [
        ""
      ],
      "execution_count": null,
      "outputs": []
    }
  ]
}